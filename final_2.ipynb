{
 "cells": [
  {
   "cell_type": "code",
   "execution_count": 110,
   "metadata": {},
   "outputs": [],
   "source": [
    "import numpy as np\n",
    "import pandas as pd\n",
    "import matplotlib.pyplot as plt\n",
    "from sklearn.preprocessing import LabelEncoder\n",
    "from sklearn.model_selection import train_test_split\n",
    "from sklearn.metrics import classification_report, f1_score,recall_score,precision_score"
   ]
  },
  {
   "cell_type": "code",
   "execution_count": 2,
   "metadata": {},
   "outputs": [],
   "source": [
    "%matplotlib inline"
   ]
  },
  {
   "cell_type": "code",
   "execution_count": 49,
   "metadata": {},
   "outputs": [],
   "source": [
    "from keras.models import Sequential\n",
    "from keras.layers import Dense"
   ]
  },
  {
   "cell_type": "code",
   "execution_count": 4,
   "metadata": {},
   "outputs": [],
   "source": [
    "def plot_history(history):\n",
    "    \"\"\"\n",
    "    Plots the Graph for the model training\n",
    "    \"\"\"\n",
    "    acc = history.history['acc']\n",
    "    val_acc = history.history['val_acc']\n",
    "    loss = history.history['loss']\n",
    "    val_loss = history.history['val_loss']\n",
    "    x = range(1, len(acc) + 1)\n",
    "    plt.figure(figsize=(12, 5))\n",
    "    plt.subplot(1, 2, 1)\n",
    "    plt.plot(x, acc, 'b', label='Training acc')\n",
    "    plt.plot(x, val_acc, 'r', label='Validation acc')\n",
    "    plt.title('Training and validation accuracy')\n",
    "    plt.legend()\n",
    "    plt.subplot(1, 2, 2)\n",
    "    plt.plot(x, loss, 'b', label='Training loss')\n",
    "    plt.plot(x, val_loss, 'r', label='Validation loss')\n",
    "    plt.title('Training and validation loss')\n",
    "    plt.legend()"
   ]
  },
  {
   "cell_type": "code",
   "execution_count": 5,
   "metadata": {},
   "outputs": [],
   "source": [
    "data = pd.read_excel(\"musk_csv.xlsx\")"
   ]
  },
  {
   "cell_type": "code",
   "execution_count": 6,
   "metadata": {},
   "outputs": [
    {
     "data": {
      "text/html": [
       "<div>\n",
       "<style scoped>\n",
       "    .dataframe tbody tr th:only-of-type {\n",
       "        vertical-align: middle;\n",
       "    }\n",
       "\n",
       "    .dataframe tbody tr th {\n",
       "        vertical-align: top;\n",
       "    }\n",
       "\n",
       "    .dataframe thead th {\n",
       "        text-align: right;\n",
       "    }\n",
       "</style>\n",
       "<table border=\"1\" class=\"dataframe\">\n",
       "  <thead>\n",
       "    <tr style=\"text-align: right;\">\n",
       "      <th></th>\n",
       "      <th>ID</th>\n",
       "      <th>molecule_name</th>\n",
       "      <th>conformation_name</th>\n",
       "      <th>f1</th>\n",
       "      <th>f2</th>\n",
       "      <th>f3</th>\n",
       "      <th>f4</th>\n",
       "      <th>f5</th>\n",
       "      <th>f6</th>\n",
       "      <th>f7</th>\n",
       "      <th>...</th>\n",
       "      <th>f158</th>\n",
       "      <th>f159</th>\n",
       "      <th>f160</th>\n",
       "      <th>f161</th>\n",
       "      <th>f162</th>\n",
       "      <th>f163</th>\n",
       "      <th>f164</th>\n",
       "      <th>f165</th>\n",
       "      <th>f166</th>\n",
       "      <th>class</th>\n",
       "    </tr>\n",
       "  </thead>\n",
       "  <tbody>\n",
       "    <tr>\n",
       "      <th>0</th>\n",
       "      <td>1</td>\n",
       "      <td>MUSK-211</td>\n",
       "      <td>211_1+1</td>\n",
       "      <td>46</td>\n",
       "      <td>-108</td>\n",
       "      <td>-60</td>\n",
       "      <td>-69</td>\n",
       "      <td>-117</td>\n",
       "      <td>49</td>\n",
       "      <td>38</td>\n",
       "      <td>...</td>\n",
       "      <td>-308</td>\n",
       "      <td>52</td>\n",
       "      <td>-7</td>\n",
       "      <td>39</td>\n",
       "      <td>126</td>\n",
       "      <td>156</td>\n",
       "      <td>-50</td>\n",
       "      <td>-112</td>\n",
       "      <td>96</td>\n",
       "      <td>1</td>\n",
       "    </tr>\n",
       "    <tr>\n",
       "      <th>1</th>\n",
       "      <td>2</td>\n",
       "      <td>MUSK-211</td>\n",
       "      <td>211_1+10</td>\n",
       "      <td>41</td>\n",
       "      <td>-188</td>\n",
       "      <td>-145</td>\n",
       "      <td>22</td>\n",
       "      <td>-117</td>\n",
       "      <td>-6</td>\n",
       "      <td>57</td>\n",
       "      <td>...</td>\n",
       "      <td>-59</td>\n",
       "      <td>-2</td>\n",
       "      <td>52</td>\n",
       "      <td>103</td>\n",
       "      <td>136</td>\n",
       "      <td>169</td>\n",
       "      <td>-61</td>\n",
       "      <td>-136</td>\n",
       "      <td>79</td>\n",
       "      <td>1</td>\n",
       "    </tr>\n",
       "    <tr>\n",
       "      <th>2</th>\n",
       "      <td>3</td>\n",
       "      <td>MUSK-211</td>\n",
       "      <td>211_1+11</td>\n",
       "      <td>46</td>\n",
       "      <td>-194</td>\n",
       "      <td>-145</td>\n",
       "      <td>28</td>\n",
       "      <td>-117</td>\n",
       "      <td>73</td>\n",
       "      <td>57</td>\n",
       "      <td>...</td>\n",
       "      <td>-134</td>\n",
       "      <td>-154</td>\n",
       "      <td>57</td>\n",
       "      <td>143</td>\n",
       "      <td>142</td>\n",
       "      <td>165</td>\n",
       "      <td>-67</td>\n",
       "      <td>-145</td>\n",
       "      <td>39</td>\n",
       "      <td>1</td>\n",
       "    </tr>\n",
       "    <tr>\n",
       "      <th>3</th>\n",
       "      <td>4</td>\n",
       "      <td>MUSK-211</td>\n",
       "      <td>211_1+12</td>\n",
       "      <td>41</td>\n",
       "      <td>-188</td>\n",
       "      <td>-145</td>\n",
       "      <td>22</td>\n",
       "      <td>-117</td>\n",
       "      <td>-7</td>\n",
       "      <td>57</td>\n",
       "      <td>...</td>\n",
       "      <td>-60</td>\n",
       "      <td>-4</td>\n",
       "      <td>52</td>\n",
       "      <td>104</td>\n",
       "      <td>136</td>\n",
       "      <td>168</td>\n",
       "      <td>-60</td>\n",
       "      <td>-135</td>\n",
       "      <td>80</td>\n",
       "      <td>1</td>\n",
       "    </tr>\n",
       "    <tr>\n",
       "      <th>4</th>\n",
       "      <td>5</td>\n",
       "      <td>MUSK-211</td>\n",
       "      <td>211_1+13</td>\n",
       "      <td>41</td>\n",
       "      <td>-188</td>\n",
       "      <td>-145</td>\n",
       "      <td>22</td>\n",
       "      <td>-117</td>\n",
       "      <td>-7</td>\n",
       "      <td>57</td>\n",
       "      <td>...</td>\n",
       "      <td>-60</td>\n",
       "      <td>-4</td>\n",
       "      <td>52</td>\n",
       "      <td>104</td>\n",
       "      <td>137</td>\n",
       "      <td>168</td>\n",
       "      <td>-60</td>\n",
       "      <td>-135</td>\n",
       "      <td>80</td>\n",
       "      <td>1</td>\n",
       "    </tr>\n",
       "  </tbody>\n",
       "</table>\n",
       "<p>5 rows × 170 columns</p>\n",
       "</div>"
      ],
      "text/plain": [
       "   ID molecule_name conformation_name  f1   f2   f3  f4   f5  f6  f7  ...  \\\n",
       "0   1      MUSK-211           211_1+1  46 -108  -60 -69 -117  49  38  ...   \n",
       "1   2      MUSK-211          211_1+10  41 -188 -145  22 -117  -6  57  ...   \n",
       "2   3      MUSK-211          211_1+11  46 -194 -145  28 -117  73  57  ...   \n",
       "3   4      MUSK-211          211_1+12  41 -188 -145  22 -117  -7  57  ...   \n",
       "4   5      MUSK-211          211_1+13  41 -188 -145  22 -117  -7  57  ...   \n",
       "\n",
       "   f158  f159  f160  f161  f162  f163  f164  f165  f166  class  \n",
       "0  -308    52    -7    39   126   156   -50  -112    96      1  \n",
       "1   -59    -2    52   103   136   169   -61  -136    79      1  \n",
       "2  -134  -154    57   143   142   165   -67  -145    39      1  \n",
       "3   -60    -4    52   104   136   168   -60  -135    80      1  \n",
       "4   -60    -4    52   104   137   168   -60  -135    80      1  \n",
       "\n",
       "[5 rows x 170 columns]"
      ]
     },
     "execution_count": 6,
     "metadata": {},
     "output_type": "execute_result"
    }
   ],
   "source": [
    "data.head()"
   ]
  },
  {
   "cell_type": "code",
   "execution_count": 7,
   "metadata": {},
   "outputs": [],
   "source": [
    "temp = list(data.dtypes)"
   ]
  },
  {
   "cell_type": "code",
   "execution_count": 8,
   "metadata": {},
   "outputs": [
    {
     "name": "stdout",
     "output_type": "stream",
     "text": [
      "[dtype('int64'), dtype('O'), dtype('O'), dtype('int64'), dtype('int64'), dtype('int64'), dtype('int64'), dtype('int64'), dtype('int64'), dtype('int64'), dtype('int64'), dtype('int64'), dtype('int64'), dtype('int64'), dtype('int64'), dtype('int64'), dtype('int64'), dtype('int64'), dtype('int64'), dtype('int64'), dtype('int64'), dtype('int64'), dtype('int64'), dtype('int64'), dtype('int64'), dtype('int64'), dtype('int64'), dtype('int64'), dtype('int64'), dtype('int64'), dtype('int64'), dtype('int64'), dtype('int64'), dtype('int64'), dtype('int64'), dtype('int64'), dtype('int64'), dtype('int64'), dtype('int64'), dtype('int64'), dtype('int64'), dtype('int64'), dtype('int64'), dtype('int64'), dtype('int64'), dtype('int64'), dtype('int64'), dtype('int64'), dtype('int64'), dtype('int64'), dtype('int64'), dtype('int64'), dtype('int64'), dtype('int64'), dtype('int64'), dtype('int64'), dtype('int64'), dtype('int64'), dtype('int64'), dtype('int64'), dtype('int64'), dtype('int64'), dtype('int64'), dtype('int64'), dtype('int64'), dtype('int64'), dtype('int64'), dtype('int64'), dtype('int64'), dtype('int64'), dtype('int64'), dtype('int64'), dtype('int64'), dtype('int64'), dtype('int64'), dtype('int64'), dtype('int64'), dtype('int64'), dtype('int64'), dtype('int64'), dtype('int64'), dtype('int64'), dtype('int64'), dtype('int64'), dtype('int64'), dtype('int64'), dtype('int64'), dtype('int64'), dtype('int64'), dtype('int64'), dtype('int64'), dtype('int64'), dtype('int64'), dtype('int64'), dtype('int64'), dtype('int64'), dtype('int64'), dtype('int64'), dtype('int64'), dtype('int64'), dtype('int64'), dtype('int64'), dtype('int64'), dtype('int64'), dtype('int64'), dtype('int64'), dtype('int64'), dtype('int64'), dtype('int64'), dtype('int64'), dtype('int64'), dtype('int64'), dtype('int64'), dtype('int64'), dtype('int64'), dtype('int64'), dtype('int64'), dtype('int64'), dtype('int64'), dtype('int64'), dtype('int64'), dtype('int64'), dtype('int64'), dtype('int64'), dtype('int64'), dtype('int64'), dtype('int64'), dtype('int64'), dtype('int64'), dtype('int64'), dtype('int64'), dtype('int64'), dtype('int64'), dtype('int64'), dtype('int64'), dtype('int64'), dtype('int64'), dtype('int64'), dtype('int64'), dtype('int64'), dtype('int64'), dtype('int64'), dtype('int64'), dtype('int64'), dtype('int64'), dtype('int64'), dtype('int64'), dtype('int64'), dtype('int64'), dtype('int64'), dtype('int64'), dtype('int64'), dtype('int64'), dtype('int64'), dtype('int64'), dtype('int64'), dtype('int64'), dtype('int64'), dtype('int64'), dtype('int64'), dtype('int64'), dtype('int64'), dtype('int64'), dtype('int64'), dtype('int64'), dtype('int64'), dtype('int64'), dtype('int64'), dtype('int64'), dtype('int64')]\n"
     ]
    }
   ],
   "source": [
    "print(temp)"
   ]
  },
  {
   "cell_type": "code",
   "execution_count": 9,
   "metadata": {},
   "outputs": [
    {
     "name": "stdout",
     "output_type": "stream",
     "text": [
      "Unique values of molecule_name:\n",
      "['MUSK-211' 'MUSK-212' 'MUSK-213' 'MUSK-214' 'MUSK-215' 'MUSK-217'\n",
      " 'MUSK-219' 'MUSK-224' 'MUSK-228' 'MUSK-238' 'MUSK-240' 'MUSK-256'\n",
      " 'MUSK-273' 'MUSK-284' 'MUSK-287' 'MUSK-294' 'MUSK-300' 'MUSK-306'\n",
      " 'MUSK-314' 'MUSK-321' 'MUSK-322' 'MUSK-323' 'MUSK-330' 'MUSK-331'\n",
      " 'MUSK-333' 'MUSK-344' 'MUSK-f152' 'MUSK-f158' 'MUSK-j33' 'MUSK-j51'\n",
      " 'MUSK-jf15' 'MUSK-jf17' 'MUSK-jf46' 'MUSK-jf47' 'MUSK-jf58' 'MUSK-jf59'\n",
      " 'MUSK-jf66' 'MUSK-jf67' 'MUSK-jf78' 'NON-MUSK-192' 'NON-MUSK-197'\n",
      " 'NON-MUSK-199' 'NON-MUSK-200' 'NON-MUSK-207' 'NON-MUSK-208'\n",
      " 'NON-MUSK-210' 'NON-MUSK-216' 'NON-MUSK-220' 'NON-MUSK-226'\n",
      " 'NON-MUSK-232' 'NON-MUSK-233' 'NON-MUSK-244' 'NON-MUSK-249'\n",
      " 'NON-MUSK-251' 'NON-MUSK-252' 'NON-MUSK-253' 'NON-MUSK-270'\n",
      " 'NON-MUSK-271' 'NON-MUSK-286' 'NON-MUSK-288' 'NON-MUSK-289'\n",
      " 'NON-MUSK-290' 'NON-MUSK-295' 'NON-MUSK-296' 'NON-MUSK-297'\n",
      " 'NON-MUSK-305' 'NON-MUSK-308' 'NON-MUSK-309' 'NON-MUSK-318'\n",
      " 'NON-MUSK-319' 'NON-MUSK-320' 'NON-MUSK-326' 'NON-MUSK-327'\n",
      " 'NON-MUSK-328' 'NON-MUSK-332' 'NON-MUSK-334' 'NON-MUSK-338'\n",
      " 'NON-MUSK-358' 'NON-MUSK-360' 'NON-MUSK-361' 'NON-MUSK-362'\n",
      " 'NON-MUSK-f146' 'NON-MUSK-f150' 'NON-MUSK-f161' 'NON-MUSK-f164'\n",
      " 'NON-MUSK-f209' 'NON-MUSK-j100' 'NON-MUSK-j129' 'NON-MUSK-j130'\n",
      " 'NON-MUSK-j146' 'NON-MUSK-j147' 'NON-MUSK-j148' 'NON-MUSK-j81'\n",
      " 'NON-MUSK-j83' 'NON-MUSK-j84' 'NON-MUSK-j90' 'NON-MUSK-j96'\n",
      " 'NON-MUSK-j97' 'NON-MUSK-jf18' 'NON-MUSK-jf79' 'NON-MUSK-jp10'\n",
      " 'NON-MUSK-jp13']\n"
     ]
    }
   ],
   "source": [
    "print(f\"Unique values of molecule_name:\\n{data['molecule_name'].unique()}\")"
   ]
  },
  {
   "cell_type": "code",
   "execution_count": 10,
   "metadata": {},
   "outputs": [
    {
     "name": "stdout",
     "output_type": "stream",
     "text": [
      "Value counts of molecule_name:\n",
      "NON-MUSK-j146    1044\n",
      "NON-MUSK-252     1010\n",
      "NON-MUSK-j147     911\n",
      "NON-MUSK-f146     383\n",
      "NON-MUSK-288      344\n",
      "                 ... \n",
      "NON-MUSK-j130       2\n",
      "NON-MUSK-290        2\n",
      "NON-MUSK-295        2\n",
      "NON-MUSK-j97        1\n",
      "NON-MUSK-j96        1\n",
      "Name: molecule_name, Length: 102, dtype: int64\n"
     ]
    }
   ],
   "source": [
    "print(f\"Value counts of molecule_name:\\n{data['molecule_name'].value_counts()}\")"
   ]
  },
  {
   "cell_type": "code",
   "execution_count": 11,
   "metadata": {},
   "outputs": [
    {
     "name": "stdout",
     "output_type": "stream",
     "text": [
      "Unique values of conformation_name: 6598\n"
     ]
    }
   ],
   "source": [
    "print(f\"Unique values of conformation_name: {len(data['conformation_name'].unique())}\")"
   ]
  },
  {
   "cell_type": "code",
   "execution_count": 12,
   "metadata": {},
   "outputs": [
    {
     "data": {
      "text/plain": [
       "(6598, 170)"
      ]
     },
     "execution_count": 12,
     "metadata": {},
     "output_type": "execute_result"
    }
   ],
   "source": [
    "data.shape"
   ]
  },
  {
   "cell_type": "code",
   "execution_count": 13,
   "metadata": {},
   "outputs": [
    {
     "name": "stdout",
     "output_type": "stream",
     "text": [
      "{'ID': 0, 'molecule_name': 0, 'conformation_name': 0, 'f1': 0, 'f2': 0, 'f3': 0, 'f4': 0, 'f5': 0, 'f6': 0, 'f7': 0, 'f8': 0, 'f9': 0, 'f10': 0, 'f11': 0, 'f12': 0, 'f13': 0, 'f14': 0, 'f15': 0, 'f16': 0, 'f17': 0, 'f18': 0, 'f19': 0, 'f20': 0, 'f21': 0, 'f22': 0, 'f23': 0, 'f24': 0, 'f25': 0, 'f26': 0, 'f27': 0, 'f28': 0, 'f29': 0, 'f30': 0, 'f31': 0, 'f32': 0, 'f33': 0, 'f34': 0, 'f35': 0, 'f36': 0, 'f37': 0, 'f38': 0, 'f39': 0, 'f40': 0, 'f41': 0, 'f42': 0, 'f43': 0, 'f44': 0, 'f45': 0, 'f46': 0, 'f47': 0, 'f48': 0, 'f49': 0, 'f50': 0, 'f51': 0, 'f52': 0, 'f53': 0, 'f54': 0, 'f55': 0, 'f56': 0, 'f57': 0, 'f58': 0, 'f59': 0, 'f60': 0, 'f61': 0, 'f62': 0, 'f63': 0, 'f64': 0, 'f65': 0, 'f66': 0, 'f67': 0, 'f68': 0, 'f69': 0, 'f70': 0, 'f71': 0, 'f72': 0, 'f73': 0, 'f74': 0, 'f75': 0, 'f76': 0, 'f77': 0, 'f78': 0, 'f79': 0, 'f80': 0, 'f81': 0, 'f82': 0, 'f83': 0, 'f84': 0, 'f85': 0, 'f86': 0, 'f87': 0, 'f88': 0, 'f89': 0, 'f90': 0, 'f91': 0, 'f92': 0, 'f93': 0, 'f94': 0, 'f95': 0, 'f96': 0, 'f97': 0, 'f98': 0, 'f99': 0, 'f100': 0, 'f101': 0, 'f102': 0, 'f103': 0, 'f104': 0, 'f105': 0, 'f106': 0, 'f107': 0, 'f108': 0, 'f109': 0, 'f110': 0, 'f111': 0, 'f112': 0, 'f113': 0, 'f114': 0, 'f115': 0, 'f116': 0, 'f117': 0, 'f118': 0, 'f119': 0, 'f120': 0, 'f121': 0, 'f122': 0, 'f123': 0, 'f124': 0, 'f125': 0, 'f126': 0, 'f127': 0, 'f128': 0, 'f129': 0, 'f130': 0, 'f131': 0, 'f132': 0, 'f133': 0, 'f134': 0, 'f135': 0, 'f136': 0, 'f137': 0, 'f138': 0, 'f139': 0, 'f140': 0, 'f141': 0, 'f142': 0, 'f143': 0, 'f144': 0, 'f145': 0, 'f146': 0, 'f147': 0, 'f148': 0, 'f149': 0, 'f150': 0, 'f151': 0, 'f152': 0, 'f153': 0, 'f154': 0, 'f155': 0, 'f156': 0, 'f157': 0, 'f158': 0, 'f159': 0, 'f160': 0, 'f161': 0, 'f162': 0, 'f163': 0, 'f164': 0, 'f165': 0, 'f166': 0, 'class': 0}\n"
     ]
    }
   ],
   "source": [
    "print(dict(data.isnull().sum()))"
   ]
  },
  {
   "cell_type": "code",
   "execution_count": 14,
   "metadata": {},
   "outputs": [
    {
     "data": {
      "text/plain": [
       "<matplotlib.axes._subplots.AxesSubplot at 0x7ff591585278>"
      ]
     },
     "execution_count": 14,
     "metadata": {},
     "output_type": "execute_result"
    },
    {
     "data": {
      "image/png": "[encoded data removed]",
      "text/plain": [
       "<Figure size 432x288 with 1 Axes>"
      ]
     },
     "metadata": {
      "needs_background": "light"
     },
     "output_type": "display_data"
    }
   ],
   "source": [
    "data['class'].value_counts().plot('bar')"
   ]
  },
  {
   "cell_type": "code",
   "execution_count": 101,
   "metadata": {},
   "outputs": [],
   "source": [
    "class_weight = {}\n",
    "unique_class = list(data['class'].unique())\n",
    "for i in unique_class:\n",
    "    class_weight[i] = (100 - round((len(data[data['class'] == i])/len(data)) * 100))/100"
   ]
  },
  {
   "cell_type": "code",
   "execution_count": 102,
   "metadata": {},
   "outputs": [
    {
     "data": {
      "text/plain": [
       "{1: 0.85, 0: 0.15}"
      ]
     },
     "execution_count": 102,
     "metadata": {},
     "output_type": "execute_result"
    }
   ],
   "source": [
    "class_weight"
   ]
  },
  {
   "cell_type": "code",
   "execution_count": 15,
   "metadata": {},
   "outputs": [],
   "source": [
    "le_mn = LabelEncoder()\n",
    "data['molecule_name'] = le_mn.fit_transform(data['molecule_name'])"
   ]
  },
  {
   "cell_type": "code",
   "execution_count": 16,
   "metadata": {},
   "outputs": [],
   "source": [
    "le_cn = LabelEncoder()\n",
    "data['conformation_name'] = le_cn.fit_transform(data['conformation_name'])"
   ]
  },
  {
   "cell_type": "code",
   "execution_count": 17,
   "metadata": {},
   "outputs": [],
   "source": [
    "data.drop(['ID','conformation_name'],inplace=True,axis=1)"
   ]
  },
  {
   "cell_type": "code",
   "execution_count": 18,
   "metadata": {},
   "outputs": [
    {
     "data": {
      "text/html": [
       "<div>\n",
       "<style scoped>\n",
       "    .dataframe tbody tr th:only-of-type {\n",
       "        vertical-align: middle;\n",
       "    }\n",
       "\n",
       "    .dataframe tbody tr th {\n",
       "        vertical-align: top;\n",
       "    }\n",
       "\n",
       "    .dataframe thead th {\n",
       "        text-align: right;\n",
       "    }\n",
       "</style>\n",
       "<table border=\"1\" class=\"dataframe\">\n",
       "  <thead>\n",
       "    <tr style=\"text-align: right;\">\n",
       "      <th></th>\n",
       "      <th>molecule_name</th>\n",
       "      <th>f1</th>\n",
       "      <th>f2</th>\n",
       "      <th>f3</th>\n",
       "      <th>f4</th>\n",
       "      <th>f5</th>\n",
       "      <th>f6</th>\n",
       "      <th>f7</th>\n",
       "      <th>f8</th>\n",
       "      <th>f9</th>\n",
       "      <th>...</th>\n",
       "      <th>f158</th>\n",
       "      <th>f159</th>\n",
       "      <th>f160</th>\n",
       "      <th>f161</th>\n",
       "      <th>f162</th>\n",
       "      <th>f163</th>\n",
       "      <th>f164</th>\n",
       "      <th>f165</th>\n",
       "      <th>f166</th>\n",
       "      <th>class</th>\n",
       "    </tr>\n",
       "  </thead>\n",
       "  <tbody>\n",
       "    <tr>\n",
       "      <th>0</th>\n",
       "      <td>0</td>\n",
       "      <td>46</td>\n",
       "      <td>-108</td>\n",
       "      <td>-60</td>\n",
       "      <td>-69</td>\n",
       "      <td>-117</td>\n",
       "      <td>49</td>\n",
       "      <td>38</td>\n",
       "      <td>-161</td>\n",
       "      <td>-8</td>\n",
       "      <td>...</td>\n",
       "      <td>-308</td>\n",
       "      <td>52</td>\n",
       "      <td>-7</td>\n",
       "      <td>39</td>\n",
       "      <td>126</td>\n",
       "      <td>156</td>\n",
       "      <td>-50</td>\n",
       "      <td>-112</td>\n",
       "      <td>96</td>\n",
       "      <td>1</td>\n",
       "    </tr>\n",
       "    <tr>\n",
       "      <th>1</th>\n",
       "      <td>0</td>\n",
       "      <td>41</td>\n",
       "      <td>-188</td>\n",
       "      <td>-145</td>\n",
       "      <td>22</td>\n",
       "      <td>-117</td>\n",
       "      <td>-6</td>\n",
       "      <td>57</td>\n",
       "      <td>-171</td>\n",
       "      <td>-39</td>\n",
       "      <td>...</td>\n",
       "      <td>-59</td>\n",
       "      <td>-2</td>\n",
       "      <td>52</td>\n",
       "      <td>103</td>\n",
       "      <td>136</td>\n",
       "      <td>169</td>\n",
       "      <td>-61</td>\n",
       "      <td>-136</td>\n",
       "      <td>79</td>\n",
       "      <td>1</td>\n",
       "    </tr>\n",
       "    <tr>\n",
       "      <th>2</th>\n",
       "      <td>0</td>\n",
       "      <td>46</td>\n",
       "      <td>-194</td>\n",
       "      <td>-145</td>\n",
       "      <td>28</td>\n",
       "      <td>-117</td>\n",
       "      <td>73</td>\n",
       "      <td>57</td>\n",
       "      <td>-168</td>\n",
       "      <td>-39</td>\n",
       "      <td>...</td>\n",
       "      <td>-134</td>\n",
       "      <td>-154</td>\n",
       "      <td>57</td>\n",
       "      <td>143</td>\n",
       "      <td>142</td>\n",
       "      <td>165</td>\n",
       "      <td>-67</td>\n",
       "      <td>-145</td>\n",
       "      <td>39</td>\n",
       "      <td>1</td>\n",
       "    </tr>\n",
       "    <tr>\n",
       "      <th>3</th>\n",
       "      <td>0</td>\n",
       "      <td>41</td>\n",
       "      <td>-188</td>\n",
       "      <td>-145</td>\n",
       "      <td>22</td>\n",
       "      <td>-117</td>\n",
       "      <td>-7</td>\n",
       "      <td>57</td>\n",
       "      <td>-170</td>\n",
       "      <td>-39</td>\n",
       "      <td>...</td>\n",
       "      <td>-60</td>\n",
       "      <td>-4</td>\n",
       "      <td>52</td>\n",
       "      <td>104</td>\n",
       "      <td>136</td>\n",
       "      <td>168</td>\n",
       "      <td>-60</td>\n",
       "      <td>-135</td>\n",
       "      <td>80</td>\n",
       "      <td>1</td>\n",
       "    </tr>\n",
       "    <tr>\n",
       "      <th>4</th>\n",
       "      <td>0</td>\n",
       "      <td>41</td>\n",
       "      <td>-188</td>\n",
       "      <td>-145</td>\n",
       "      <td>22</td>\n",
       "      <td>-117</td>\n",
       "      <td>-7</td>\n",
       "      <td>57</td>\n",
       "      <td>-170</td>\n",
       "      <td>-39</td>\n",
       "      <td>...</td>\n",
       "      <td>-60</td>\n",
       "      <td>-4</td>\n",
       "      <td>52</td>\n",
       "      <td>104</td>\n",
       "      <td>137</td>\n",
       "      <td>168</td>\n",
       "      <td>-60</td>\n",
       "      <td>-135</td>\n",
       "      <td>80</td>\n",
       "      <td>1</td>\n",
       "    </tr>\n",
       "  </tbody>\n",
       "</table>\n",
       "<p>5 rows × 168 columns</p>\n",
       "</div>"
      ],
      "text/plain": [
       "   molecule_name  f1   f2   f3  f4   f5  f6  f7   f8  f9  ...  f158  f159  \\\n",
       "0              0  46 -108  -60 -69 -117  49  38 -161  -8  ...  -308    52   \n",
       "1              0  41 -188 -145  22 -117  -6  57 -171 -39  ...   -59    -2   \n",
       "2              0  46 -194 -145  28 -117  73  57 -168 -39  ...  -134  -154   \n",
       "3              0  41 -188 -145  22 -117  -7  57 -170 -39  ...   -60    -4   \n",
       "4              0  41 -188 -145  22 -117  -7  57 -170 -39  ...   -60    -4   \n",
       "\n",
       "   f160  f161  f162  f163  f164  f165  f166  class  \n",
       "0    -7    39   126   156   -50  -112    96      1  \n",
       "1    52   103   136   169   -61  -136    79      1  \n",
       "2    57   143   142   165   -67  -145    39      1  \n",
       "3    52   104   136   168   -60  -135    80      1  \n",
       "4    52   104   137   168   -60  -135    80      1  \n",
       "\n",
       "[5 rows x 168 columns]"
      ]
     },
     "execution_count": 18,
     "metadata": {},
     "output_type": "execute_result"
    }
   ],
   "source": [
    "data.head()"
   ]
  },
  {
   "cell_type": "code",
   "execution_count": 19,
   "metadata": {},
   "outputs": [],
   "source": [
    "x_col_list = list(data.columns[data.columns != 'class'])\n",
    "y_col_list = list(data.columns[data.columns == 'class'])"
   ]
  },
  {
   "cell_type": "code",
   "execution_count": 20,
   "metadata": {},
   "outputs": [],
   "source": [
    "X_train, X_test, y_train, y_test = train_test_split(data[x_col_list], data[y_col_list], test_size=0.2, random_state=0)"
   ]
  },
  {
   "cell_type": "code",
   "execution_count": 21,
   "metadata": {},
   "outputs": [],
   "source": [
    "X_train = np.asarray(X_train)\n",
    "X_test = np.asarray(X_test)\n",
    "y_train = np.asarray(y_train)\n",
    "y_test = np.asarray(y_test)"
   ]
  },
  {
   "cell_type": "code",
   "execution_count": 23,
   "metadata": {},
   "outputs": [],
   "source": [
    "# del model"
   ]
  },
  {
   "cell_type": "code",
   "execution_count": 24,
   "metadata": {},
   "outputs": [
    {
     "name": "stdout",
     "output_type": "stream",
     "text": [
      "Train on 5278 samples, validate on 1320 samples\n",
      "Epoch 1/9\n",
      "5278/5278 [==============================] - 0s 56us/step - loss: 1.5588 - acc: 0.9087 - val_loss: 1.7758 - val_acc: 0.9106\n",
      "Epoch 2/9\n",
      "5278/5278 [==============================] - 0s 37us/step - loss: 0.5100 - acc: 0.9534 - val_loss: 0.3229 - val_acc: 0.9598\n",
      "Epoch 3/9\n",
      "5278/5278 [==============================] - 0s 39us/step - loss: 0.2527 - acc: 0.9710 - val_loss: 0.2150 - val_acc: 0.9727\n",
      "Epoch 4/9\n",
      "5278/5278 [==============================] - 0s 39us/step - loss: 0.1434 - acc: 0.9778 - val_loss: 0.0951 - val_acc: 0.9841\n",
      "Epoch 5/9\n",
      "5278/5278 [==============================] - 0s 39us/step - loss: 0.1584 - acc: 0.9788 - val_loss: 0.1722 - val_acc: 0.9765\n",
      "Epoch 6/9\n",
      "5278/5278 [==============================] - 0s 36us/step - loss: 0.1607 - acc: 0.9792 - val_loss: 0.1151 - val_acc: 0.9856\n",
      "Epoch 7/9\n",
      "5278/5278 [==============================] - 0s 38us/step - loss: 0.1087 - acc: 0.9854 - val_loss: 0.1329 - val_acc: 0.9833\n",
      "Epoch 8/9\n",
      "5278/5278 [==============================] - 0s 36us/step - loss: 0.0251 - acc: 0.9958 - val_loss: 0.1685 - val_acc: 0.9833\n",
      "Epoch 9/9\n",
      "5278/5278 [==============================] - 0s 39us/step - loss: 0.0527 - acc: 0.9898 - val_loss: 0.0622 - val_acc: 0.9909\n"
     ]
    },
    {
     "data": {
      "image/png": "[encoded data removed]",
      "text/plain": [
       "<Figure size 864x360 with 2 Axes>"
      ]
     },
     "metadata": {
      "needs_background": "light"
     },
     "output_type": "display_data"
    }
   ],
   "source": [
    "model = Sequential()\n",
    "model.add(Dense(170, activation='relu'))\n",
    "model.add(Dense(85, activation='relu'))\n",
    "model.add(Dense(1,activation='sigmoid'))\n",
    "model.compile(optimizer='adam', loss='binary_crossentropy', metrics=['acc'])\n",
    "history = model.fit(X_train, y_train, validation_data=(X_test,y_test), batch_size=32, epochs=9,verbose=1)\n",
    "plot_history(history)"
   ]
  },
  {
   "cell_type": "code",
   "execution_count": 106,
   "metadata": {},
   "outputs": [
    {
     "name": "stdout",
     "output_type": "stream",
     "text": [
      "Train on 5278 samples, validate on 1320 samples\n",
      "Epoch 1/9\n",
      "5278/5278 [==============================] - 1s 97us/step - loss: 0.8888 - acc: 0.8463 - val_loss: 0.5139 - val_acc: 0.9659\n",
      "Epoch 2/9\n",
      "5278/5278 [==============================] - 0s 51us/step - loss: 0.2882 - acc: 0.9265 - val_loss: 0.2685 - val_acc: 0.9712\n",
      "Epoch 3/9\n",
      "5278/5278 [==============================] - 0s 50us/step - loss: 0.0855 - acc: 0.9672 - val_loss: 0.4862 - val_acc: 0.9652\n",
      "Epoch 4/9\n",
      "5278/5278 [==============================] - 0s 49us/step - loss: 0.1412 - acc: 0.9615 - val_loss: 0.0415 - val_acc: 0.9924\n",
      "Epoch 5/9\n",
      "5278/5278 [==============================] - 0s 51us/step - loss: 0.0580 - acc: 0.9788 - val_loss: 0.1580 - val_acc: 0.9864\n",
      "Epoch 6/9\n",
      "5278/5278 [==============================] - 0s 48us/step - loss: 0.0628 - acc: 0.9790 - val_loss: 0.1697 - val_acc: 0.9780\n",
      "Epoch 7/9\n",
      "5278/5278 [==============================] - 0s 48us/step - loss: 0.1221 - acc: 0.9668 - val_loss: 0.0469 - val_acc: 0.9909\n",
      "Epoch 8/9\n",
      "5278/5278 [==============================] - 0s 49us/step - loss: 0.0686 - acc: 0.9752 - val_loss: 0.0734 - val_acc: 0.9886\n",
      "Epoch 9/9\n",
      "5278/5278 [==============================] - 0s 49us/step - loss: 0.0442 - acc: 0.9852 - val_loss: 0.0210 - val_acc: 0.9970\n"
     ]
    },
    {
     "data": {
      "image/png": "[encoded data removed]",
      "text/plain": [
       "<Figure size 864x360 with 2 Axes>"
      ]
     },
     "metadata": {
      "needs_background": "light"
     },
     "output_type": "display_data"
    }
   ],
   "source": [
    "ann_model_2 = Sequential()\n",
    "ann_model_2.add(Dense(170, activation='relu'))\n",
    "ann_model_2.add(Dense(85, activation='relu'))\n",
    "ann_model_2.add(Dense(1,activation='sigmoid'))\n",
    "ann_model_2.compile(optimizer='adam', loss='binary_crossentropy', metrics=['acc'])\n",
    "ann_2_history = ann_model_2.fit(X_train, y_train, validation_data = (X_test,y_test), batch_size=32, epochs=9,verbose=1,class_weight=class_weight)\n",
    "plot_history(ann_2_history)"
   ]
  },
  {
   "cell_type": "code",
   "execution_count": 107,
   "metadata": {},
   "outputs": [],
   "source": [
    "prediction = np.argmax(ann_model_2.predict(X_test),axis=-1)"
   ]
  },
  {
   "cell_type": "code",
   "execution_count": 108,
   "metadata": {},
   "outputs": [
    {
     "name": "stdout",
     "output_type": "stream",
     "text": [
      "              precision    recall  f1-score   support\n",
      "\n",
      "           0       0.85      1.00      0.92      1120\n",
      "           1       0.00      0.00      0.00       200\n",
      "\n",
      "   micro avg       0.85      0.85      0.85      1320\n",
      "   macro avg       0.42      0.50      0.46      1320\n",
      "weighted avg       0.72      0.85      0.78      1320\n",
      "\n"
     ]
    }
   ],
   "source": [
    "print(classification_report(y_test,prediction))"
   ]
  },
  {
   "cell_type": "code",
   "execution_count": 111,
   "metadata": {},
   "outputs": [
    {
     "name": "stdout",
     "output_type": "stream",
     "text": [
      "F1-score: 0.0\n",
      "Recall: 0.0\n",
      "Precision: 0.0\n"
     ]
    }
   ],
   "source": [
    "print(f\"F1-score: {f1_score(y_test,prediction)}\")\n",
    "print(f\"Recall: {recall_score(y_test,prediction)}\")\n",
    "print(f\"Precision: {precision_score(y_test,prediction)}\")"
   ]
  },
  {
   "cell_type": "code",
   "execution_count": 109,
   "metadata": {},
   "outputs": [],
   "source": [
    "model.save('model.h5')\n",
    "ann_model_2.save('ann_model_2.h5')"
   ]
  },
  {
   "cell_type": "code",
   "execution_count": null,
   "metadata": {},
   "outputs": [],
   "source": []
  }
 ],
 "metadata": {
  "kernelspec": {
   "display_name": "Python 3",
   "language": "python",
   "name": "python3"
  },
  "language_info": {
   "codemirror_mode": {
    "name": "ipython",
    "version": 3
   },
   "file_extension": ".py",
   "mimetype": "text/x-python",
   "name": "python",
   "nbconvert_exporter": "python",
   "pygments_lexer": "ipython3",
   "version": "3.6.5"
  }
 },
 "nbformat": 4,
 "nbformat_minor": 2
}
